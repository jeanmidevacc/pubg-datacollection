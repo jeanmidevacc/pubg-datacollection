{
 "cells": [
  {
   "cell_type": "code",
   "execution_count": 20,
   "metadata": {},
   "outputs": [],
   "source": [
    "import os\n",
    "import sys\n",
    "import json\n",
    "import time\n",
    "import datetime\n",
    "from importlib import reload\n",
    "\n",
    "import requests\n",
    "\n",
    "import pandas as pd\n",
    "\n",
    "import external as ext"
   ]
  },
  {
   "cell_type": "code",
   "execution_count": 12,
   "metadata": {},
   "outputs": [],
   "source": [
    "# Put the apikey provided during the subscription to the pubg developer portal\n",
    "apikey = \"\""
   ]
  },
  {
   "cell_type": "code",
   "execution_count": 13,
   "metadata": {},
   "outputs": [],
   "source": [
    "#Define the headers for the request\n",
    "headers = {\n",
    "    \"Authorization\": f'Bearer {apikey}',\n",
    "    \"Accept\": \"application/vnd.api+json\"\n",
    "}"
   ]
  },
  {
   "cell_type": "markdown",
   "metadata": {},
   "source": [
    "## Collect the matchid from the sample endpoint"
   ]
  },
  {
   "cell_type": "code",
   "execution_count": 14,
   "metadata": {},
   "outputs": [],
   "source": [
    "# Define the area\n",
    "area = \"pc-na\""
   ]
  },
  {
   "cell_type": "code",
   "execution_count": 17,
   "metadata": {},
   "outputs": [
    {
     "name": "stdout",
     "output_type": "stream",
     "text": [
      "Nbr of matches 1166\n",
      "Sample ['b551a96e-c8c3-4f4a-a4ee-520f5a8305a8', 'bcc7a55a-59c9-4e7c-8ad5-84bab20b0801', '929d0e59-92c1-4e7e-b5ae-3de2b78b7258', '024c8277-04ba-4e2d-a6a1-e5df18e97d78', '049c3bd1-67a7-420b-8c22-9edf7dee9707']\n"
     ]
    }
   ],
   "source": [
    "# Setup the request\n",
    "url_collectmatchid = f\"https://api.pubg.com/shards/{area}/samples\"\n",
    "response = requests.get(url_collectmatchid, headers=headers)\n",
    "\n",
    "#Format the data (dirty way)\n",
    "try:\n",
    "    matches = [match[\"id\"] for match in response.json()[\"data\"]['relationships'][\"matches\"][\"data\"]]\n",
    "except:\n",
    "    print(response.text)\n",
    "    matches = []\n",
    "    \n",
    "# Quick check\n",
    "nbr_matches = len(matches)\n",
    "print(\"Nbr of matches\",nbr_matches)\n",
    "print(\"Sample\",matches[:5])"
   ]
  },
  {
   "cell_type": "markdown",
   "metadata": {},
   "source": [
    "## Collect the details on the match"
   ]
  },
  {
   "cell_type": "code",
   "execution_count": 18,
   "metadata": {},
   "outputs": [],
   "source": [
    "#Choose one match ofr the test\n",
    "matchid = matches[1]"
   ]
  },
  {
   "cell_type": "code",
   "execution_count": 24,
   "metadata": {},
   "outputs": [
    {
     "name": "stdout",
     "output_type": "stream",
     "text": [
      "Number of players: 17\n",
      "Url of the match: https://telemetry-cdn.playbattlegrounds.com/bluehole-pubg/pc-na/2019/01/28/00/01/d6dfdb2a-228f-11e9-8cba-0a5864607e24-telemetry.json\n",
      "Type of match: solo\n"
     ]
    }
   ],
   "source": [
    "reload(ext)\n",
    "#Collect the details on the match\n",
    "df_match,url_eventsmatch,typ = ext.get_matchdetails(area,matchid,headers)\n",
    "print(\"Number of players:\",len(df_match))\n",
    "print(\"Url of the match:\",url_eventsmatch)\n",
    "print(\"Type of match:\",typ)"
   ]
  },
  {
   "cell_type": "markdown",
   "metadata": {},
   "source": [
    "## Collect the events associated to the match"
   ]
  },
  {
   "cell_type": "code",
   "execution_count": 25,
   "metadata": {},
   "outputs": [],
   "source": [
    "df_events = ext.get_eventsdetails(url_eventsmatch)"
   ]
  },
  {
   "cell_type": "code",
   "execution_count": 26,
   "metadata": {},
   "outputs": [
    {
     "data": {
      "text/html": [
       "<div>\n",
       "<style scoped>\n",
       "    .dataframe tbody tr th:only-of-type {\n",
       "        vertical-align: middle;\n",
       "    }\n",
       "\n",
       "    .dataframe tbody tr th {\n",
       "        vertical-align: top;\n",
       "    }\n",
       "\n",
       "    .dataframe thead th {\n",
       "        text-align: right;\n",
       "    }\n",
       "</style>\n",
       "<table border=\"1\" class=\"dataframe\">\n",
       "  <thead>\n",
       "    <tr style=\"text-align: right;\">\n",
       "      <th></th>\n",
       "      <th>tstp</th>\n",
       "      <th>type_event</th>\n",
       "      <th>details</th>\n",
       "    </tr>\n",
       "  </thead>\n",
       "  <tbody>\n",
       "    <tr>\n",
       "      <th>1</th>\n",
       "      <td>2019-01-27 23:27:59.788</td>\n",
       "      <td>LogPlayerLogin</td>\n",
       "      <td>{'accountId': 'account.7bbd1f5ffcbb45d49135ea8...</td>\n",
       "    </tr>\n",
       "    <tr>\n",
       "      <th>2</th>\n",
       "      <td>2019-01-27 23:27:59.819</td>\n",
       "      <td>LogPlayerCreate</td>\n",
       "      <td>{'character': {'name': 'Kr0w', 'teamId': 10000...</td>\n",
       "    </tr>\n",
       "    <tr>\n",
       "      <th>3</th>\n",
       "      <td>2019-01-27 23:28:00.794</td>\n",
       "      <td>LogPlayerLogin</td>\n",
       "      <td>{'accountId': 'account.a907a52a493c44c49e1122f...</td>\n",
       "    </tr>\n",
       "    <tr>\n",
       "      <th>4</th>\n",
       "      <td>2019-01-27 23:28:00.803</td>\n",
       "      <td>LogPlayerCreate</td>\n",
       "      <td>{'character': {'name': 'carolinanavy', 'teamId...</td>\n",
       "    </tr>\n",
       "    <tr>\n",
       "      <th>5</th>\n",
       "      <td>2019-01-27 23:28:02.030</td>\n",
       "      <td>LogPlayerLogin</td>\n",
       "      <td>{'accountId': 'account.8b2ebc9844424007af0798f...</td>\n",
       "    </tr>\n",
       "  </tbody>\n",
       "</table>\n",
       "</div>"
      ],
      "text/plain": [
       "                     tstp       type_event  \\\n",
       "1 2019-01-27 23:27:59.788   LogPlayerLogin   \n",
       "2 2019-01-27 23:27:59.819  LogPlayerCreate   \n",
       "3 2019-01-27 23:28:00.794   LogPlayerLogin   \n",
       "4 2019-01-27 23:28:00.803  LogPlayerCreate   \n",
       "5 2019-01-27 23:28:02.030   LogPlayerLogin   \n",
       "\n",
       "                                             details  \n",
       "1  {'accountId': 'account.7bbd1f5ffcbb45d49135ea8...  \n",
       "2  {'character': {'name': 'Kr0w', 'teamId': 10000...  \n",
       "3  {'accountId': 'account.a907a52a493c44c49e1122f...  \n",
       "4  {'character': {'name': 'carolinanavy', 'teamId...  \n",
       "5  {'accountId': 'account.8b2ebc9844424007af0798f...  "
      ]
     },
     "execution_count": 26,
     "metadata": {},
     "output_type": "execute_result"
    }
   ],
   "source": [
    "df_events.head()"
   ]
  },
  {
   "cell_type": "markdown",
   "metadata": {},
   "source": [
    "## Get general details on the match"
   ]
  },
  {
   "cell_type": "code",
   "execution_count": 28,
   "metadata": {},
   "outputs": [
    {
     "data": {
      "text/plain": [
       "{'start_date': '2019-01-27 23:29:47',\n",
       " 'end_date': '2019-01-27 23:59:56',\n",
       " 'nbr_players': 17,\n",
       " 'duration': 1808,\n",
       " 'mapname': 'Range_Main',\n",
       " 'weatherid': 'Weather_Range_Sunset',\n",
       " 'cameraviewbehaviour': 'FpsAndTps',\n",
       " 'teamsize': 1,\n",
       " 'iscustomgame': True,\n",
       " 'iseventmode': False,\n",
       " 'bluezonecustomoptions': '[]',\n",
       " 'matchid': 'match.bro.training.training.steam.solo.na.2019.01.27.23.bcc7a55a-59c9-4e7c-8ad5-84bab20b0801',\n",
       " 'pingquality': 'low',\n",
       " 'seasonstate': 'progress'}"
      ]
     },
     "execution_count": 28,
     "metadata": {},
     "output_type": "execute_result"
    }
   ],
   "source": [
    "ext.get_detailsmatch(df_events)"
   ]
  },
  {
   "cell_type": "markdown",
   "metadata": {},
   "source": [
    "## Make an event segmentation"
   ]
  },
  {
   "cell_type": "code",
   "execution_count": 29,
   "metadata": {},
   "outputs": [],
   "source": [
    "#Select the events that are not match related (just one event in all the match)\n",
    "df_events_toclean = df_events[df_events['type_event'].str.contains(\"Match\") == False]"
   ]
  },
  {
   "cell_type": "code",
   "execution_count": 31,
   "metadata": {},
   "outputs": [
    {
     "name": "stdout",
     "output_type": "stream",
     "text": [
      "LogPlayerLogin\n",
      "                                  accountId  common_isgame  \\\n",
      "0  account.7bbd1f5ffcbb45d49135ea8a908fe0fe              0   \n",
      "1  account.a907a52a493c44c49e1122f71b5816e0              0   \n",
      "2  account.8b2ebc9844424007af0798f37fe64bd8              0   \n",
      "3  account.541f83b2dc2241a5a860268582f22e4f              0   \n",
      "4  account.d7707b5d692a4cb382256c9b11118b78              0   \n",
      "\n",
      "                     tstp  \n",
      "0 2019-01-27 23:27:59.788  \n",
      "1 2019-01-27 23:28:00.794  \n",
      "2 2019-01-27 23:28:02.030  \n",
      "3 2019-01-27 23:28:07.794  \n",
      "4 2019-01-27 23:28:11.691  \n",
      "LogPlayerCreate\n",
      "                        character_accountid  character_health  \\\n",
      "0  account.7bbd1f5ffcbb45d49135ea8a908fe0fe               100   \n",
      "1  account.a907a52a493c44c49e1122f71b5816e0               100   \n",
      "2  account.8b2ebc9844424007af0798f37fe64bd8               100   \n",
      "3  account.541f83b2dc2241a5a860268582f22e4f               100   \n",
      "4  account.d7707b5d692a4cb382256c9b11118b78               100   \n",
      "\n",
      "   character_isinbluezone  character_isinredzone  character_location_x  \\\n",
      "0                   False                  False         135817.281250   \n",
      "1                   False                  False         136276.171875   \n",
      "2                   False                  False         135921.718750   \n",
      "3                   False                  False         136080.046875   \n",
      "4                   False                  False         136102.687500   \n",
      "\n",
      "   character_location_y  character_location_z character_name  \\\n",
      "0         141893.703125           1967.679565           Kr0w   \n",
      "1         141728.484375           1967.679565   carolinanavy   \n",
      "2         141504.656250           1967.679565  Peacheater989   \n",
      "3         141771.906250           1967.679565         xxvitu   \n",
      "4         141438.468750           1967.679565  KAKA0-FRIENDS   \n",
      "\n",
      "   character_ranking  character_teamid character_zone  common_isgame  \\\n",
      "0                  0            100000             []              0   \n",
      "1                  0            100001             []              0   \n",
      "2                  0            100002             []              0   \n",
      "3                  0            100003             []              0   \n",
      "4                  0            100004             []              0   \n",
      "\n",
      "                     tstp  \n",
      "0 2019-01-27 23:27:59.819  \n",
      "1 2019-01-27 23:28:00.803  \n",
      "2 2019-01-27 23:28:02.037  \n",
      "3 2019-01-27 23:28:07.802  \n",
      "4 2019-01-27 23:28:11.699  \n"
     ]
    }
   ],
   "source": [
    "#For each type of event\n",
    "for type_event in df_events_toclean['type_event'].unique()[:2]:\n",
    "    print(type_event)\n",
    "    df_events_toclean_selected = df_events_toclean[df_events_toclean [\"type_event\"] == type_event]\n",
    "\n",
    "    clean_events = []\n",
    "    for i,row in df_events_toclean_selected.iterrows():\n",
    "        raw_details = row[\"details\"]\n",
    "        #print(raw_details)\n",
    "        raw_details[\"tstp\"] = row[\"tstp\"]\n",
    "        raw_details = ext.get_cleandict(raw_details)\n",
    "        clean_events.append(raw_details)\n",
    "\n",
    "    df_events_clean = pd.DataFrame(clean_events)\n",
    "    df_events_clean.sort_values(['tstp'], ascending= True, inplace = True)\n",
    "    df_events_clean.reset_index(drop = True, inplace = True)\n",
    "    \n",
    "    print(df_events_clean.head())"
   ]
  },
  {
   "cell_type": "markdown",
   "metadata": {},
   "source": [
    "## Process to send data in S3"
   ]
  },
  {
   "cell_type": "code",
   "execution_count": 32,
   "metadata": {},
   "outputs": [],
   "source": [
    "#Define the client to send the data (use the credntials that are setup on your machine but can be defined by the access id)\n",
    "import boto3\n",
    "s3_client = boto3.client('s3')\n",
    "transfer = boto3.s3.transfer.S3Transfer(s3_client)"
   ]
  },
  {
   "cell_type": "code",
   "execution_count": null,
   "metadata": {},
   "outputs": [],
   "source": [
    "#Command to send data in s3\n",
    "file_local = \"name of the file in your machine\"\n",
    "file_s3 = \"name of the file in s3\"#Can be useful to define a path to create a simple arborescence\n",
    "s3bucket = \"name of the s3 bucket\"\n",
    "transfer.upload_file(file_local, s3bucket, file_s3)"
   ]
  }
 ],
 "metadata": {
  "kernelspec": {
   "display_name": "Python 3",
   "language": "python",
   "name": "python3"
  },
  "language_info": {
   "codemirror_mode": {
    "name": "ipython",
    "version": 3
   },
   "file_extension": ".py",
   "mimetype": "text/x-python",
   "name": "python",
   "nbconvert_exporter": "python",
   "pygments_lexer": "ipython3",
   "version": "3.7.2"
  }
 },
 "nbformat": 4,
 "nbformat_minor": 2
}
